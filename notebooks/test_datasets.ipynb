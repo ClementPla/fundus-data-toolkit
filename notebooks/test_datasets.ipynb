{
 "cells": [
  {
   "cell_type": "code",
   "execution_count": 1,
   "metadata": {},
   "outputs": [],
   "source": [
    "%load_ext autoreload\n",
    "%autoreload 2"
   ]
  },
  {
   "cell_type": "code",
   "execution_count": 4,
   "metadata": {},
   "outputs": [],
   "source": [
    "from fundus_data_toolkit.datamodules.classification import DDRDataModule, IDRiDDataModule, EyePACSDataModule, AptosDataModule\n",
    "from fundus_data_toolkit.datamodules.utils import merge_existing_datamodules\n",
    "from fundus_data_toolkit.datamodules import CLASSIF_PATHS, SEG_PATHS, register_paths, Task, USER_SETTING\n",
    "from nntools import NNOpt"
   ]
  },
  {
   "cell_type": "code",
   "execution_count": 6,
   "metadata": {},
   "outputs": [
    {
     "data": {
      "text/plain": [
       "'/home/clement/.local/share/fundus-data-toolkit'"
      ]
     },
     "execution_count": 6,
     "metadata": {},
     "output_type": "execute_result"
    }
   ],
   "source": [
    "import appdirs\n",
    "appdirs.user_data_dir(\n",
    "            'fundus-data-toolkit', appauthor='fundus-data-toolkit', roaming=True\n",
    "        )"
   ]
  },
  {
   "cell_type": "code",
   "execution_count": 3,
   "metadata": {},
   "outputs": [],
   "source": [
    "paths = dict(\n",
    "    EYEPACS=\"/home/clement/Documents/data/eyepacs/\",\n",
    "    APTOS=\"/home/clement/Documents/data/aptos/\",\n",
    "    DDR=\"/home/clement/Documents/data/DDR/DDR-dataset/DR_grading/\",\n",
    "    IDRID=\"/home/clement/Documents/data/IDRID/B. Disease Grading/\",\n",
    ")\n",
    "\n",
    "register_paths(paths, Task.CLASSIFICATION)"
   ]
  },
  {
   "cell_type": "code",
   "execution_count": 5,
   "metadata": {},
   "outputs": [
    {
     "data": {
      "text/plain": [
       "{}"
      ]
     },
     "execution_count": 5,
     "metadata": {},
     "output_type": "execute_result"
    }
   ],
   "source": [
    "USER_SETTING"
   ]
  },
  {
   "cell_type": "code",
   "execution_count": 11,
   "metadata": {},
   "outputs": [
    {
     "data": {
      "text/plain": [
       "'/home/clement/Documents/data/IDRID/B. Disease Grading/'"
      ]
     },
     "execution_count": 11,
     "metadata": {},
     "output_type": "execute_result"
    }
   ],
   "source": [
    "CLASSIF_PATHS.IDRID"
   ]
  },
  {
   "cell_type": "code",
   "execution_count": null,
   "metadata": {},
   "outputs": [
    {
     "ename": "AttributeError",
     "evalue": "'NoneType' object has no attribute 'IDRID'",
     "output_type": "error",
     "traceback": [
      "\u001b[0;31m---------------------------------------------------------------------------\u001b[0m",
      "\u001b[0;31mAttributeError\u001b[0m                            Traceback (most recent call last)",
      "Cell \u001b[0;32mIn[4], line 2\u001b[0m\n\u001b[1;32m      1\u001b[0m img_size \u001b[38;5;241m=\u001b[39m (\u001b[38;5;241m512\u001b[39m, \u001b[38;5;241m512\u001b[39m)\n\u001b[0;32m----> 2\u001b[0m idrid_datamodule \u001b[38;5;241m=\u001b[39m IDRiDDataModule(\u001b[43mCLASSIF_PATHS\u001b[49m\u001b[38;5;241;43m.\u001b[39;49m\u001b[43mIDRID\u001b[49m, img_size\u001b[38;5;241m=\u001b[39mimg_size, batch_size\u001b[38;5;241m=\u001b[39m\u001b[38;5;241m64\u001b[39m, \n\u001b[1;32m      3\u001b[0m                                    valid_size\u001b[38;5;241m=\u001b[39m\u001b[38;5;241m0.2\u001b[39m,\n\u001b[1;32m      4\u001b[0m                                    use_cache\u001b[38;5;241m=\u001b[39m\u001b[38;5;28;01mTrue\u001b[39;00m, num_workers\u001b[38;5;241m=\u001b[39m\u001b[38;5;241m8\u001b[39m,\n\u001b[1;32m      5\u001b[0m                                    precise_autocrop\u001b[38;5;241m=\u001b[39m\u001b[38;5;28;01mTrue\u001b[39;00m,\n\u001b[1;32m      6\u001b[0m                                    cache_option\u001b[38;5;241m=\u001b[39mNNOpt\u001b[38;5;241m.\u001b[39mCACHE_DISK)\u001b[38;5;241m.\u001b[39msetup_all()\n\u001b[1;32m      7\u001b[0m eyepacs_datamodule \u001b[38;5;241m=\u001b[39m EyePACSDataModule(CLASSIF_PATHS\u001b[38;5;241m.\u001b[39mEYEPACS, img_size\u001b[38;5;241m=\u001b[39mimg_size, batch_size\u001b[38;5;241m=\u001b[39m\u001b[38;5;241m64\u001b[39m, use_cache\u001b[38;5;241m=\u001b[39m\u001b[38;5;28;01mTrue\u001b[39;00m, num_workers\u001b[38;5;241m=\u001b[39m\u001b[38;5;241m8\u001b[39m,\n\u001b[1;32m      8\u001b[0m                                        precise_autocrop\u001b[38;5;241m=\u001b[39m\u001b[38;5;28;01mTrue\u001b[39;00m,\n\u001b[1;32m      9\u001b[0m                                    cache_option\u001b[38;5;241m=\u001b[39mNNOpt\u001b[38;5;241m.\u001b[39mCACHE_DISK)\u001b[38;5;241m.\u001b[39msetup_all()\n\u001b[1;32m     10\u001b[0m aptos_datamodule \u001b[38;5;241m=\u001b[39m AptosDataModule(CLASSIF_PATHS\u001b[38;5;241m.\u001b[39mAPTOS, img_size\u001b[38;5;241m=\u001b[39mimg_size, batch_size\u001b[38;5;241m=\u001b[39m\u001b[38;5;241m64\u001b[39m, use_cache\u001b[38;5;241m=\u001b[39m\u001b[38;5;28;01mTrue\u001b[39;00m, num_workers\u001b[38;5;241m=\u001b[39m\u001b[38;5;241m8\u001b[39m,\n\u001b[1;32m     11\u001b[0m                                    precise_autocrop\u001b[38;5;241m=\u001b[39m\u001b[38;5;28;01mTrue\u001b[39;00m,\n\u001b[1;32m     12\u001b[0m                                    cache_option\u001b[38;5;241m=\u001b[39mNNOpt\u001b[38;5;241m.\u001b[39mCACHE_DISK)\u001b[38;5;241m.\u001b[39msetup_all()\n",
      "\u001b[0;31mAttributeError\u001b[0m: 'NoneType' object has no attribute 'IDRID'"
     ]
    }
   ],
   "source": [
    "img_size = (512, 512)\n",
    "idrid_datamodule = IDRiDDataModule(CLASSIF_PATHS.IDRID, img_size=img_size, batch_size=64, \n",
    "                                   valid_size=0.2,\n",
    "                                   use_cache=True, num_workers=8,\n",
    "                                   precise_autocrop=True,\n",
    "                                   cache_option=NNOpt.CACHE_DISK).setup_all()\n",
    "eyepacs_datamodule = EyePACSDataModule(CLASSIF_PATHS.EYEPACS, img_size=img_size, batch_size=64, use_cache=True, num_workers=8,\n",
    "                                       precise_autocrop=True,\n",
    "                                   cache_option=NNOpt.CACHE_DISK).setup_all()\n",
    "aptos_datamodule = AptosDataModule(CLASSIF_PATHS.APTOS, img_size=img_size, batch_size=64, use_cache=True, num_workers=8,\n",
    "                                   precise_autocrop=True,\n",
    "                                   cache_option=NNOpt.CACHE_DISK).setup_all()\n",
    "ddr_datamodule = DDRDataModule(CLASSIF_PATHS.DDR, img_size=img_size, batch_size=64, use_cache=True, num_workers=8,\n",
    "                                   cache_option=NNOpt.CACHE_DISK, precise_autocrop=True).setup_all()\n",
    "ddr_datamodule.train.plot(0)"
   ]
  },
  {
   "cell_type": "code",
   "execution_count": null,
   "metadata": {},
   "outputs": [],
   "source": [
    "datamodule = merge_existing_datamodules([idrid_datamodule, aptos_datamodule])"
   ]
  },
  {
   "cell_type": "code",
   "execution_count": null,
   "metadata": {},
   "outputs": [
    {
     "data": {
      "application/vnd.jupyter.widget-view+json": {
       "model_id": "48eed30390a34c8388d465ac37a313b2",
       "version_major": 2,
       "version_minor": 0
      },
      "text/plain": [
       "  0%|          | 0/63 [00:00<?, ?it/s]"
      ]
     },
     "metadata": {},
     "output_type": "display_data"
    }
   ],
   "source": [
    "from tqdm.notebook import tqdm\n",
    "dataloaders = datamodule.train_dataloader()\n",
    "for batch in tqdm(dataloaders, total=len(dataloaders)):\n",
    "    pass"
   ]
  },
  {
   "cell_type": "code",
   "execution_count": null,
   "metadata": {},
   "outputs": [],
   "source": []
  }
 ],
 "metadata": {
  "kernelspec": {
   "display_name": "cugraph",
   "language": "python",
   "name": "python3"
  },
  "language_info": {
   "codemirror_mode": {
    "name": "ipython",
    "version": 3
   },
   "file_extension": ".py",
   "mimetype": "text/x-python",
   "name": "python",
   "nbconvert_exporter": "python",
   "pygments_lexer": "ipython3",
   "version": "3.12.3"
  }
 },
 "nbformat": 4,
 "nbformat_minor": 2
}
