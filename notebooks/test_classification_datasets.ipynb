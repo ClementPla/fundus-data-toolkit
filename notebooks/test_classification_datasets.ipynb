{
 "cells": [
  {
   "cell_type": "code",
   "execution_count": 6,
   "metadata": {},
   "outputs": [
    {
     "name": "stdout",
     "output_type": "stream",
     "text": [
      "The autoreload extension is already loaded. To reload it, use:\n",
      "  %reload_ext autoreload\n"
     ]
    }
   ],
   "source": [
    "%load_ext autoreload\n",
    "%autoreload 2"
   ]
  },
  {
   "cell_type": "code",
   "execution_count": 7,
   "metadata": {},
   "outputs": [],
   "source": [
    "import logging\n",
    "\n",
    "from fundus_data_toolkit.datamodules import CLASSIF_PATHS, SEG_PATHS, USER_SETTING, Task, register_paths\n",
    "from fundus_data_toolkit.datamodules.classification import (\n",
    "    AptosDataModule,\n",
    "    DDRDataModule,\n",
    "    EyePACSDataModule,\n",
    "    IDRiDDataModule,\n",
    ")\n",
    "from fundus_data_toolkit.datamodules.utils import merge_existing_datamodules\n",
    "from nntools import NNOpt\n",
    "\n",
    "root = logging.getLogger()\n",
    "root.setLevel(logging.NOTSET)\n"
   ]
  },
  {
   "cell_type": "code",
   "execution_count": 8,
   "metadata": {},
   "outputs": [
    {
     "name": "stdout",
     "output_type": "stream",
     "text": [
      "{'classification_eyepacs': '/home/clement/Documents/data/eyepacs/', 'classification_aptos': '/home/clement/Documents/data/aptos/', 'classification_ddr': '/home/clement/Documents/data/DDR/DDR-dataset/DR_grading/', 'classification_idrid': '/home/clement/Documents/data/IDRID/B. Disease Grading/'}\n"
     ]
    }
   ],
   "source": [
    "paths = {\n",
    "'EYEPACS': '/home/clement/Documents/data/eyepacs/',\n",
    "'APTOS': '/home/clement/Documents/data/aptos/',\n",
    "'DDR': '/home/clement/Documents/data/DDR/DDR-dataset/DR_grading/',\n",
    "'IDRID': '/home/clement/Documents/data/IDRID/B. Disease Grading/', \n",
    "}\n",
    "register_paths(paths, task=Task.CLASSIFICATION)"
   ]
  },
  {
   "cell_type": "code",
   "execution_count": 9,
   "metadata": {},
   "outputs": [],
   "source": [
    "img_size = (512, 512)\n",
    "idrid_datamodule = IDRiDDataModule(CLASSIF_PATHS.IDRID, img_size=img_size, batch_size=64, \n",
    "                                   valid_size=0.2,\n",
    "                                   use_cache=True, num_workers=8,\n",
    "                                   precise_autocrop=True,\n",
    "                                   cache_option=NNOpt.CACHE_MEMORY).setup_all()\n",
    "eyepacs_datamodule = EyePACSDataModule(CLASSIF_PATHS.EYEPACS, img_size=img_size, batch_size=64, use_cache=True, num_workers=8,\n",
    "                                       precise_autocrop=True,\n",
    "                                   cache_option=NNOpt.CACHE_MEMORY).setup_all()\n",
    "aptos_datamodule = AptosDataModule(CLASSIF_PATHS.APTOS, img_size=img_size, batch_size=64, use_cache=True, num_workers=8,\n",
    "                                   precise_autocrop=True,\n",
    "                                   cache_option=NNOpt.CACHE_MEMORY).setup_all()\n",
    "ddr_datamodule = DDRDataModule(CLASSIF_PATHS.DDR, img_size=img_size, batch_size=64, use_cache=True, num_workers=8,\n",
    "                                   cache_option=NNOpt.CACHE_MEMORY, precise_autocrop=True).setup_all()\n",
    "# ddr_datamodule.train.plot(0)"
   ]
  }
 ],
 "metadata": {
  "kernelspec": {
   "display_name": "cugraph",
   "language": "python",
   "name": "python3"
  },
  "language_info": {
   "codemirror_mode": {
    "name": "ipython",
    "version": 3
   },
   "file_extension": ".py",
   "mimetype": "text/x-python",
   "name": "python",
   "nbconvert_exporter": "python",
   "pygments_lexer": "ipython3",
   "version": "3.12.3"
  }
 },
 "nbformat": 4,
 "nbformat_minor": 2
}
