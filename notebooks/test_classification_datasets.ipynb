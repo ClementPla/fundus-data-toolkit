{
 "cells": [
  {
   "cell_type": "code",
   "execution_count": 1,
   "metadata": {},
   "outputs": [],
   "source": [
    "%load_ext autoreload\n",
    "%autoreload 2"
   ]
  },
  {
   "cell_type": "code",
   "execution_count": 2,
   "metadata": {},
   "outputs": [],
   "source": [
    "import logging\n",
    "\n",
    "from fundus_data_toolkit.datamodules import CLASSIF_PATHS, SEG_PATHS, USER_SETTING, Task, register_paths\n",
    "from fundus_data_toolkit.datamodules.classification import (\n",
    "    AptosDataModule,\n",
    "    DDRDataModule,\n",
    "    EyePACSDataModule,\n",
    "    IDRiDDataModule,\n",
    ")\n",
    "from fundus_data_toolkit.datamodules.utils import merge_existing_datamodules\n",
    "from nntools import NNOpt\n",
    "\n",
    "root = logging.getLogger()\n",
    "root.setLevel(logging.NOTSET)\n"
   ]
  },
  {
   "cell_type": "code",
   "execution_count": 6,
   "metadata": {},
   "outputs": [],
   "source": [
    "paths = {\n",
    "'EYEPACS': '/home/clement/Documents/data/eyepacs/',\n",
    "'APTOS': '/home/clement/Documents/data/aptos/',\n",
    "'DDR': '/home/clement/Documents/data/DDR-dataset/DR_grading/',\n",
    "'IDRID': '/home/clement/Documents/data/IDRID/B. Disease Grading/', \n",
    "}\n",
    "register_paths(paths, task=Task.CLASSIFICATION)"
   ]
  },
  {
   "cell_type": "code",
   "execution_count": 7,
   "metadata": {},
   "outputs": [
    {
     "data": {
      "text/plain": [
       "{'EYEPACS': '/home/clement/Documents/data/eyepacs/',\n",
       " 'APTOS': '/home/clement/Documents/data/aptos/',\n",
       " 'DDR': '/home/clement/Documents/data/DDR-dataset/DR_grading/',\n",
       " 'IDRID': '/home/clement/Documents/data/IDRID/B. Disease Grading/'}"
      ]
     },
     "execution_count": 7,
     "metadata": {},
     "output_type": "execute_result"
    }
   ],
   "source": [
    "CLASSIF_PATHS"
   ]
  },
  {
   "cell_type": "code",
   "execution_count": 10,
   "metadata": {},
   "outputs": [],
   "source": [
    "img_size = (512, 512)\n",
    "idrid_datamodule = IDRiDDataModule(CLASSIF_PATHS.IDRID, img_size=img_size, batch_size=64, \n",
    "                                   valid_size=0.2,\n",
    "                                   use_cache=True, num_workers=8,\n",
    "                                   precise_autocrop=True,\n",
    "                                   cache_option=NNOpt.CACHE_MEMORY).setup_all()\n",
    "eyepacs_datamodule = EyePACSDataModule(CLASSIF_PATHS.EYEPACS, img_size=img_size, batch_size=64, use_cache=True, num_workers=8,\n",
    "                                       precise_autocrop=True,\n",
    "                                   cache_option=NNOpt.CACHE_MEMORY).setup_all()\n",
    "aptos_datamodule = AptosDataModule(CLASSIF_PATHS.APTOS, img_size=img_size, batch_size=64, use_cache=True, num_workers=8,\n",
    "                                   precise_autocrop=True,\n",
    "                                   cache_option=NNOpt.CACHE_MEMORY).setup_all()\n",
    "ddr_datamodule = DDRDataModule(CLASSIF_PATHS.DDR, img_size=img_size, batch_size=64, use_cache=True, num_workers=8,\n",
    "                                   cache_option=NNOpt.CACHE_MEMORY, precise_autocrop=True).setup_all()\n",
    "datamodules = {\"IDRID\": idrid_datamodule, \"EYEPACS\": eyepacs_datamodule, \"APTOS\": aptos_datamodule, \"DDR\": ddr_datamodule}\n",
    "# ddr_datamodule.train.plot(0)"
   ]
  },
  {
   "cell_type": "code",
   "execution_count": 19,
   "metadata": {},
   "outputs": [
    {
     "name": "stdout",
     "output_type": "stream",
     "text": [
      "IDRID Total: 516 (train: 413)\n",
      "Train: 331, Test: 103, Valid: 82\n",
      "EYEPACS Total: 88702 (train: 35126)\n",
      "Train: 35126, Test: 53576\n",
      "APTOS Total: 3662 (train: 3662)\n",
      "Train: 3662\n",
      "DDR Total: 12522 (train: 8763)\n",
      "Train: 6260, Test: 3759, Valid: 2503\n"
     ]
    }
   ],
   "source": [
    "for k, v, in datamodules.items():\n",
    "    total_images = len(v.train) + (len(v.val) if v.val is not None else 0) + (len(v.test) if v.test is not None else 0)\n",
    "    print(f\"{k} Total: {total_images} (tra12i1\n",
    "          ``````````n: {total_images - (len(v.test) if v.test is not None else 0)})\")\n",
    "    if v.val is None and v.test is None:x#\n",
    "        print(f\"Train: {len(v.train)}\")\n",
    "    elif v.val is not None and v.test is not None:\n",
    "        print(f\"Train: {len(v.train)}, Test: {len(v.test)}, Valid: {len(v.val)}\")\n",
    "    elif v.val is not None:\n",
    "        print(f\"Train: {len(v.train)}, Valid: {len(v.val)}\")\n",
    "    else:\n",
    "        print(f\"Train: {len(v.train)}, Test: {len(v.test)}\")\n"
   ]
  }
 ],
 "metadata": {
  "kernelspec": {
   "display_name": "cugraph",
   "language": "python",
   "name": "python3"
  },
  "language_info": {
   "codemirror_mode": {
    "name": "ipython",
    "version": 3
   },
   "file_extension": ".py",
   "mimetype": "text/x-python",
   "name": "python",
   "nbconvert_exporter": "python",
   "pygments_lexer": "ipython3",
   "version": "3.12.3"
  }
 },
 "nbformat": 4,
 "nbformat_minor": 2
}
