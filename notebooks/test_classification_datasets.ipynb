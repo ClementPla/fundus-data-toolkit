{
 "cells": [
  {
   "cell_type": "code",
   "execution_count": 1,
   "metadata": {},
   "outputs": [],
   "source": [
    "%load_ext autoreload\n",
    "%autoreload 2"
   ]
  },
  {
   "cell_type": "code",
   "execution_count": 2,
   "metadata": {},
   "outputs": [],
   "source": [
    "import logging\n",
    "\n",
    "from fundus_data_toolkit.datamodules import CLASSIF_PATHS, SEG_PATHS, USER_SETTING, Task, register_paths\n",
    "from fundus_data_toolkit.datamodules.classification import (\n",
    "    AptosDataModule,\n",
    "    DDRDataModule,\n",
    "    EyePACSDataModule,\n",
    "    IDRiDDataModule,\n",
    ")\n",
    "from fundus_data_toolkit.datamodules.utils import merge_existing_datamodules\n",
    "from nntools import NNOpt\n",
    "\n",
    "root = logging.getLogger()\n",
    "root.setLevel(logging.NOTSET)"
   ]
  },
  {
   "cell_type": "code",
   "execution_count": 3,
   "metadata": {},
   "outputs": [],
   "source": [
    "paths = {\n",
    "    \"EYEPACS\": \"/home/clement/Documents/data/eyepacs/\",\n",
    "    \"APTOS\": \"/home/clement/Documents/data/aptos/\",\n",
    "    \"DDR\": \"/home/clement/Documents/data/DDR-dataset/DR_grading/\",\n",
    "    \"IDRID\": \"/home/clement/Documents/data/IDRID/B. Disease Grading/\",\n",
    "}\n",
    "register_paths(paths, task=Task.CLASSIFICATION)"
   ]
  },
  {
   "cell_type": "code",
   "execution_count": 7,
   "metadata": {},
   "outputs": [
    {
     "data": {
      "text/plain": [
       "{'EYEPACS': '/home/clement/Documents/data/eyepacs/',\n",
       " 'APTOS': '/home/clement/Documents/data/aptos/',\n",
       " 'DDR': '/home/clement/Documents/data/DDR-dataset/DR_grading/',\n",
       " 'IDRID': '/home/clement/Documents/data/IDRID/B. Disease Grading/'}"
      ]
     },
     "execution_count": 7,
     "metadata": {},
     "output_type": "execute_result"
    }
   ],
   "source": [
    "CLASSIF_PATHS"
   ]
  },
  {
   "cell_type": "code",
   "execution_count": 7,
   "metadata": {},
   "outputs": [],
   "source": [
    "img_size = (512, 512)\n",
    "idrid_datamodule = IDRiDDataModule(\n",
    "    CLASSIF_PATHS.IDRID,\n",
    "    img_size=img_size,\n",
    "    batch_size=64,\n",
    "    valid_size=0.2,\n",
    "    use_cache=True,\n",
    "    num_workers=8,\n",
    "    precise_autocrop=False,\n",
    "    cache_option=NNOpt.CACHE_MEMORY,\n",
    ").setup_all()\n",
    "eyepacs_datamodule = EyePACSDataModule(\n",
    "    CLASSIF_PATHS.EYEPACS,\n",
    "    img_size=img_size,\n",
    "    batch_size=64,\n",
    "    use_cache=True,\n",
    "    num_workers=8,\n",
    "    precise_autocrop=True,\n",
    "    cache_option=NNOpt.CACHE_MEMORY,\n",
    ").setup_all()\n",
    "aptos_datamodule = AptosDataModule(\n",
    "    CLASSIF_PATHS.APTOS,\n",
    "    img_size=img_size,\n",
    "    batch_size=64,\n",
    "    use_cache=True,\n",
    "    num_workers=8,\n",
    "    precise_autocrop=True,\n",
    "    cache_option=NNOpt.CACHE_MEMORY,\n",
    ").setup_all()\n",
    "ddr_datamodule = DDRDataModule(\n",
    "    CLASSIF_PATHS.DDR,\n",
    "    img_size=img_size,\n",
    "    batch_size=64,\n",
    "    use_cache=True,\n",
    "    num_workers=8,\n",
    "    cache_option=NNOpt.CACHE_MEMORY,\n",
    "    precise_autocrop=True,\n",
    ").setup_all()\n",
    "datamodules = {\n",
    "    \"IDRID\": idrid_datamodule,\n",
    "    \"EYEPACS\": eyepacs_datamodule,\n",
    "    \"APTOS\": aptos_datamodule,\n",
    "    \"DDR\": ddr_datamodule,\n",
    "}\n",
    "# ddr_datamodule.train.plot(0)"
   ]
  },
  {
   "cell_type": "code",
   "execution_count": 8,
   "metadata": {},
   "outputs": [
    {
     "ename": "ValueError",
     "evalue": "Height and Width of image, mask or masks should be equal. You can disable shapes check by setting a parameter is_check_shapes=False of Compose class (do it only if you are sure about your data consistency).",
     "output_type": "error",
     "traceback": [
      "\u001b[0;31m---------------------------------------------------------------------------\u001b[0m",
      "\u001b[0;31mValueError\u001b[0m                                Traceback (most recent call last)",
      "Cell \u001b[0;32mIn[8], line 1\u001b[0m\n\u001b[0;32m----> 1\u001b[0m \u001b[43midrid_datamodule\u001b[49m\u001b[38;5;241;43m.\u001b[39;49m\u001b[43mtrain\u001b[49m\u001b[38;5;241;43m.\u001b[39;49m\u001b[43mplot\u001b[49m\u001b[43m(\u001b[49m\u001b[38;5;241;43m0\u001b[39;49m\u001b[43m)\u001b[49m\n",
      "File \u001b[0;32m~/Documents/Projets/NNTools/src/nntools/dataset/abstract_image_dataset.py:243\u001b[0m, in \u001b[0;36mAbstractImageDataset.plot\u001b[0;34m(self, item, classes, fig_size)\u001b[0m\n\u001b[1;32m    242\u001b[0m \u001b[38;5;28;01mdef\u001b[39;00m \u001b[38;5;21mplot\u001b[39m(\u001b[38;5;28mself\u001b[39m, item: \u001b[38;5;28mint\u001b[39m, classes: Optional[List[\u001b[38;5;28mstr\u001b[39m]] \u001b[38;5;241m=\u001b[39m \u001b[38;5;28;01mNone\u001b[39;00m, fig_size: \u001b[38;5;28mint\u001b[39m \u001b[38;5;241m=\u001b[39m \u001b[38;5;241m1\u001b[39m):\n\u001b[0;32m--> 243\u001b[0m     \u001b[38;5;28;43mself\u001b[39;49m\u001b[38;5;241;43m.\u001b[39;49m\u001b[43mviewer\u001b[49m\u001b[38;5;241;43m.\u001b[39;49m\u001b[43mplot\u001b[49m\u001b[43m(\u001b[49m\u001b[43mitem\u001b[49m\u001b[43m,\u001b[49m\u001b[43m \u001b[49m\u001b[43mclasses\u001b[49m\u001b[43m,\u001b[49m\u001b[43m \u001b[49m\u001b[43mfig_size\u001b[49m\u001b[43m)\u001b[49m\n",
      "File \u001b[0;32m~/Documents/Projets/NNTools/src/nntools/dataset/viewer.py:30\u001b[0m, in \u001b[0;36mViewer.plot\u001b[0;34m(self, item, classes, fig_size)\u001b[0m\n\u001b[1;32m     29\u001b[0m \u001b[38;5;28;01mdef\u001b[39;00m \u001b[38;5;21mplot\u001b[39m(\u001b[38;5;28mself\u001b[39m, item: \u001b[38;5;28mint\u001b[39m, classes: Optional[List[\u001b[38;5;28mstr\u001b[39m]] \u001b[38;5;241m=\u001b[39m \u001b[38;5;28;01mNone\u001b[39;00m, fig_size: \u001b[38;5;28mint\u001b[39m \u001b[38;5;241m=\u001b[39m \u001b[38;5;241m1\u001b[39m):\n\u001b[0;32m---> 30\u001b[0m     arrays \u001b[38;5;241m=\u001b[39m \u001b[38;5;28;43mself\u001b[39;49m\u001b[38;5;241;43m.\u001b[39;49m\u001b[43md\u001b[49m\u001b[38;5;241;43m.\u001b[39;49m\u001b[38;5;21;43m__getitem__\u001b[39;49m\u001b[43m(\u001b[49m\u001b[43mitem\u001b[49m\u001b[43m,\u001b[49m\u001b[43m \u001b[49m\u001b[43mreturn_indices\u001b[49m\u001b[38;5;241;43m=\u001b[39;49m\u001b[38;5;28;43;01mFalse\u001b[39;49;00m\u001b[43m)\u001b[49m\n\u001b[1;32m     31\u001b[0m     arrays \u001b[38;5;241m=\u001b[39m convert_dict_to_plottable(arrays)\n\u001b[1;32m     32\u001b[0m     plot_images(arrays, \u001b[38;5;28mself\u001b[39m\u001b[38;5;241m.\u001b[39mcmap_name, classes\u001b[38;5;241m=\u001b[39mclasses, fig_size\u001b[38;5;241m=\u001b[39mfig_size)\n",
      "File \u001b[0;32m~/Documents/Projets/NNTools/src/nntools/dataset/abstract_image_dataset.py:209\u001b[0m, in \u001b[0;36mAbstractImageDataset.__getitem__\u001b[0;34m(self, index, return_indices, return_tag)\u001b[0m\n\u001b[1;32m    206\u001b[0m \u001b[38;5;28;01mif\u001b[39;00m index \u001b[38;5;241m>\u001b[39m\u001b[38;5;241m=\u001b[39m \u001b[38;5;28mself\u001b[39m\u001b[38;5;241m.\u001b[39mreal_length:\n\u001b[1;32m    207\u001b[0m     index \u001b[38;5;241m=\u001b[39m \u001b[38;5;28mint\u001b[39m(index \u001b[38;5;241m%\u001b[39m \u001b[38;5;28mself\u001b[39m\u001b[38;5;241m.\u001b[39mreal_length)\n\u001b[0;32m--> 209\u001b[0m inputs \u001b[38;5;241m=\u001b[39m \u001b[38;5;28;43mself\u001b[39;49m\u001b[38;5;241;43m.\u001b[39;49m\u001b[43mload_array\u001b[49m\u001b[43m(\u001b[49m\u001b[43mindex\u001b[49m\u001b[43m)\u001b[49m\n\u001b[1;32m    211\u001b[0m \u001b[38;5;28;01mif\u001b[39;00m \u001b[38;5;28mself\u001b[39m\u001b[38;5;241m.\u001b[39mcomposer:\n\u001b[1;32m    212\u001b[0m     outputs \u001b[38;5;241m=\u001b[39m \u001b[38;5;28mself\u001b[39m\u001b[38;5;241m.\u001b[39mcomposer\u001b[38;5;241m.\u001b[39mpostcache_call(\u001b[38;5;241m*\u001b[39m\u001b[38;5;241m*\u001b[39minputs)\n",
      "File \u001b[0;32m~/Documents/Projets/NNTools/src/nntools/dataset/abstract_image_dataset.py:169\u001b[0m, in \u001b[0;36mAbstractImageDataset.load_array\u001b[0;34m(self, item)\u001b[0m\n\u001b[1;32m    167\u001b[0m     \u001b[38;5;28;01mreturn\u001b[39;00m \u001b[38;5;28mself\u001b[39m\u001b[38;5;241m.\u001b[39mprecompose_data(data)\n\u001b[1;32m    168\u001b[0m \u001b[38;5;28;01melse\u001b[39;00m:\n\u001b[0;32m--> 169\u001b[0m     \u001b[38;5;28;43mself\u001b[39;49m\u001b[38;5;241;43m.\u001b[39;49m\u001b[43mcache\u001b[49m\u001b[38;5;241;43m.\u001b[39;49m\u001b[43minit_cache\u001b[49m\u001b[43m(\u001b[49m\u001b[43m)\u001b[49m\n\u001b[1;32m    170\u001b[0m     \u001b[38;5;28;01mreturn\u001b[39;00m \u001b[38;5;28mself\u001b[39m\u001b[38;5;241m.\u001b[39mcache[item]\n",
      "File \u001b[0;32m~/Documents/Projets/NNTools/src/nntools/dataset/cache/memory.py:42\u001b[0m, in \u001b[0;36mMemoryCache.init_cache\u001b[0;34m(self)\u001b[0m\n\u001b[1;32m     36\u001b[0m     logging\u001b[38;5;241m.\u001b[39mwarning(\n\u001b[1;32m     37\u001b[0m         \u001b[38;5;124m\"\u001b[39m\u001b[38;5;124mYou are using a cache with auto_resize and auto_pad set to False.\u001b[39m\u001b[38;5;130;01m\\\u001b[39;00m\n\u001b[1;32m     38\u001b[0m \u001b[38;5;124m            Make sure all your images are the same size\u001b[39m\u001b[38;5;124m\"\u001b[39m\n\u001b[1;32m     39\u001b[0m     )\n\u001b[1;32m     41\u001b[0m arrays \u001b[38;5;241m=\u001b[39m \u001b[38;5;28mself\u001b[39m\u001b[38;5;241m.\u001b[39md\u001b[38;5;241m.\u001b[39mread_from_disk(\u001b[38;5;241m0\u001b[39m)  \u001b[38;5;66;03m# Taking the first element\u001b[39;00m\n\u001b[0;32m---> 42\u001b[0m arrays \u001b[38;5;241m=\u001b[39m \u001b[38;5;28;43mself\u001b[39;49m\u001b[38;5;241;43m.\u001b[39;49m\u001b[43md\u001b[49m\u001b[38;5;241;43m.\u001b[39;49m\u001b[43mprecompose_data\u001b[49m\u001b[43m(\u001b[49m\u001b[43marrays\u001b[49m\u001b[43m)\u001b[49m\n\u001b[1;32m     44\u001b[0m in_memory_arrays \u001b[38;5;241m=\u001b[39m \u001b[38;5;28mdict\u001b[39m()\n\u001b[1;32m     45\u001b[0m \u001b[38;5;66;03m# Keep reference to all shm avoid the call from the garbage collector which pointer to buffer error\u001b[39;00m\n",
      "File \u001b[0;32m~/Documents/Projets/NNTools/src/nntools/dataset/abstract_image_dataset.py:150\u001b[0m, in \u001b[0;36mAbstractImageDataset.precompose_data\u001b[0;34m(self, data)\u001b[0m\n\u001b[1;32m    148\u001b[0m \u001b[38;5;28;01mdef\u001b[39;00m \u001b[38;5;21mprecompose_data\u001b[39m(\u001b[38;5;28mself\u001b[39m, data):\n\u001b[1;32m    149\u001b[0m     \u001b[38;5;28;01mif\u001b[39;00m \u001b[38;5;28mself\u001b[39m\u001b[38;5;241m.\u001b[39mcomposer:\n\u001b[0;32m--> 150\u001b[0m         \u001b[38;5;28;01mreturn\u001b[39;00m \u001b[38;5;28;43mself\u001b[39;49m\u001b[38;5;241;43m.\u001b[39;49m\u001b[43mcomposer\u001b[49m\u001b[38;5;241;43m.\u001b[39;49m\u001b[43mprecache_call\u001b[49m\u001b[43m(\u001b[49m\u001b[38;5;241;43m*\u001b[39;49m\u001b[38;5;241;43m*\u001b[39;49m\u001b[43mdata\u001b[49m\u001b[43m)\u001b[49m\n\u001b[1;32m    151\u001b[0m     \u001b[38;5;28;01melse\u001b[39;00m:\n\u001b[1;32m    152\u001b[0m         \u001b[38;5;28;01mreturn\u001b[39;00m data\n",
      "File \u001b[0;32m~/Documents/Projets/NNTools/src/nntools/dataset/composer.py:77\u001b[0m, in \u001b[0;36mComposition.precache_call\u001b[0;34m(self, **kwargs)\u001b[0m\n\u001b[1;32m     75\u001b[0m     \u001b[38;5;28;01mif\u001b[39;00m \u001b[38;5;28misinstance\u001b[39m(op[\u001b[38;5;124m'\u001b[39m\u001b[38;5;124mf\u001b[39m\u001b[38;5;124m'\u001b[39m], CacheBullet):\n\u001b[1;32m     76\u001b[0m         \u001b[38;5;28;01mbreak\u001b[39;00m\n\u001b[0;32m---> 77\u001b[0m     kwargs \u001b[38;5;241m=\u001b[39m \u001b[43mop\u001b[49m\u001b[43m[\u001b[49m\u001b[38;5;124;43m'\u001b[39;49m\u001b[38;5;124;43mf\u001b[39;49m\u001b[38;5;124;43m'\u001b[39;49m\u001b[43m]\u001b[49m\u001b[43m(\u001b[49m\u001b[38;5;241;43m*\u001b[39;49m\u001b[38;5;241;43m*\u001b[39;49m\u001b[43mkwargs\u001b[49m\u001b[43m)\u001b[49m\n\u001b[1;32m     79\u001b[0m \u001b[38;5;28;01mreturn\u001b[39;00m kwargs\n",
      "File \u001b[0;32m~/miniforge-pypy3/envs/deeplearning/lib/python3.12/site-packages/albumentations/core/composition.py:211\u001b[0m, in \u001b[0;36mCompose.__call__\u001b[0;34m(self, force_apply, *args, **data)\u001b[0m\n\u001b[1;32m    209\u001b[0m     \u001b[38;5;28;01mraise\u001b[39;00m \u001b[38;5;167;01mKeyError\u001b[39;00m(msg)\n\u001b[1;32m    210\u001b[0m \u001b[38;5;28;01mif\u001b[39;00m \u001b[38;5;28mself\u001b[39m\u001b[38;5;241m.\u001b[39mis_check_args:\n\u001b[0;32m--> 211\u001b[0m     \u001b[38;5;28;43mself\u001b[39;49m\u001b[38;5;241;43m.\u001b[39;49m\u001b[43m_check_args\u001b[49m\u001b[43m(\u001b[49m\u001b[38;5;241;43m*\u001b[39;49m\u001b[38;5;241;43m*\u001b[39;49m\u001b[43mdata\u001b[49m\u001b[43m)\u001b[49m\n\u001b[1;32m    213\u001b[0m \u001b[38;5;28;01mif\u001b[39;00m \u001b[38;5;129;01mnot\u001b[39;00m \u001b[38;5;28misinstance\u001b[39m(force_apply, (\u001b[38;5;28mbool\u001b[39m, \u001b[38;5;28mint\u001b[39m)):\n\u001b[1;32m    214\u001b[0m     msg \u001b[38;5;241m=\u001b[39m \u001b[38;5;124m\"\u001b[39m\u001b[38;5;124mforce_apply must have bool or int type\u001b[39m\u001b[38;5;124m\"\u001b[39m\n",
      "File \u001b[0;32m~/miniforge-pypy3/envs/deeplearning/lib/python3.12/site-packages/albumentations/core/composition.py:307\u001b[0m, in \u001b[0;36mCompose._check_args\u001b[0;34m(self, **kwargs)\u001b[0m\n\u001b[1;32m    301\u001b[0m \u001b[38;5;28;01mif\u001b[39;00m \u001b[38;5;28mself\u001b[39m\u001b[38;5;241m.\u001b[39mis_check_shapes \u001b[38;5;129;01mand\u001b[39;00m shapes \u001b[38;5;129;01mand\u001b[39;00m shapes\u001b[38;5;241m.\u001b[39mcount(shapes[\u001b[38;5;241m0\u001b[39m]) \u001b[38;5;241m!=\u001b[39m \u001b[38;5;28mlen\u001b[39m(shapes):\n\u001b[1;32m    302\u001b[0m     msg \u001b[38;5;241m=\u001b[39m (\n\u001b[1;32m    303\u001b[0m         \u001b[38;5;124m\"\u001b[39m\u001b[38;5;124mHeight and Width of image, mask or masks should be equal. You can disable shapes check \u001b[39m\u001b[38;5;124m\"\u001b[39m\n\u001b[1;32m    304\u001b[0m         \u001b[38;5;124m\"\u001b[39m\u001b[38;5;124mby setting a parameter is_check_shapes=False of Compose class (do it only if you are sure \u001b[39m\u001b[38;5;124m\"\u001b[39m\n\u001b[1;32m    305\u001b[0m         \u001b[38;5;124m\"\u001b[39m\u001b[38;5;124mabout your data consistency).\u001b[39m\u001b[38;5;124m\"\u001b[39m\n\u001b[1;32m    306\u001b[0m     )\n\u001b[0;32m--> 307\u001b[0m     \u001b[38;5;28;01mraise\u001b[39;00m \u001b[38;5;167;01mValueError\u001b[39;00m(msg)\n",
      "\u001b[0;31mValueError\u001b[0m: Height and Width of image, mask or masks should be equal. You can disable shapes check by setting a parameter is_check_shapes=False of Compose class (do it only if you are sure about your data consistency)."
     ]
    }
   ],
   "source": [
    "idrid_datamodule.train.plot(0)"
   ]
  }
 ],
 "metadata": {
  "kernelspec": {
   "display_name": "cugraph",
   "language": "python",
   "name": "python3"
  },
  "language_info": {
   "codemirror_mode": {
    "name": "ipython",
    "version": 3
   },
   "file_extension": ".py",
   "mimetype": "text/x-python",
   "name": "python",
   "nbconvert_exporter": "python",
   "pygments_lexer": "ipython3",
   "version": "3.12.3"
  }
 },
 "nbformat": 4,
 "nbformat_minor": 2
}
