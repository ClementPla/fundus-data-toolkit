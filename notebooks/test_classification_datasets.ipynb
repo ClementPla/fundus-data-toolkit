{
 "cells": [
  {
   "cell_type": "code",
   "execution_count": 1,
   "metadata": {},
   "outputs": [],
   "source": [
    "%load_ext autoreload\n",
    "%autoreload 2"
   ]
  },
  {
   "cell_type": "code",
   "execution_count": 2,
   "metadata": {},
   "outputs": [],
   "source": [
    "import logging\n",
    "\n",
    "from fundus_data_toolkit.datamodules import CLASSIF_PATHS, SEG_PATHS, USER_SETTING, Task, register_paths\n",
    "from fundus_data_toolkit.datamodules.classification import (\n",
    "    AptosDataModule,\n",
    "    DDRDataModule,\n",
    "    EyePACSDataModule,\n",
    "    IDRiDDataModule,\n",
    ")\n",
    "from fundus_data_toolkit.datamodules.utils import merge_existing_datamodules\n",
    "from nntools import NNOpt\n",
    "\n",
    "# root = logging.getLogger()\n",
    "# root.setLevel(logging.NOTSET)"
   ]
  },
  {
   "cell_type": "code",
   "execution_count": 3,
   "metadata": {},
   "outputs": [],
   "source": [
    "paths = {\n",
    "    \"EYEPACS\": \"/home/clement/Documents/data/eyepacs/\",\n",
    "    \"APTOS\": \"/home/clement/Documents/data/aptos/\",\n",
    "    \"DDR\": \"/home/clement/Documents/data/DDR-dataset/DR_grading/\",\n",
    "    \"IDRID\": \"/home/clement/Documents/data/IDRID/B. Disease Grading/\",\n",
    "}\n",
    "register_paths(paths, task=Task.CLASSIFICATION)"
   ]
  },
  {
   "cell_type": "code",
   "execution_count": 4,
   "metadata": {},
   "outputs": [
    {
     "data": {
      "text/plain": [
       "{'EYEPACS': '/home/clement/Documents/data/eyepacs/',\n",
       " 'APTOS': '/home/clement/Documents/data/aptos/',\n",
       " 'DDR': '/home/clement/Documents/data/DDR-dataset/DR_grading/',\n",
       " 'IDRID': '/home/clement/Documents/data/IDRID/B. Disease Grading/'}"
      ]
     },
     "execution_count": 4,
     "metadata": {},
     "output_type": "execute_result"
    }
   ],
   "source": [
    "CLASSIF_PATHS"
   ]
  },
  {
   "cell_type": "code",
   "execution_count": 8,
   "metadata": {},
   "outputs": [],
   "source": [
    "img_size = (512, 512)\n",
    "idrid_datamodule = IDRiDDataModule(\n",
    "    CLASSIF_PATHS.IDRID,\n",
    "    img_size=img_size,\n",
    "    batch_size=64,\n",
    "    valid_size=0.2,\n",
    "    use_cache=False,\n",
    "    num_workers=8,\n",
    "    precise_autocrop=True,\n",
    "    cache_option=NNOpt.CACHE_MEMORY,\n",
    ").setup_all()\n",
    "eyepacs_datamodule = EyePACSDataModule(\n",
    "    CLASSIF_PATHS.EYEPACS,\n",
    "    img_size=img_size,\n",
    "    batch_size=64,\n",
    "    use_cache=False,\n",
    "    num_workers=8,\n",
    "    precise_autocrop=True,\n",
    "    cache_option=NNOpt.CACHE_MEMORY,\n",
    ").setup_all()\n",
    "aptos_datamodule = AptosDataModule(\n",
    "    CLASSIF_PATHS.APTOS,\n",
    "    img_size=img_size,\n",
    "    batch_size=64,\n",
    "    use_cache=False,\n",
    "    num_workers=8,\n",
    "    precise_autocrop=True,\n",
    "    cache_option=NNOpt.CACHE_MEMORY,\n",
    ").setup_all()\n",
    "ddr_datamodule = DDRDataModule(\n",
    "    CLASSIF_PATHS.DDR,\n",
    "    img_size=img_size,\n",
    "    batch_size=64,\n",
    "    use_cache=False,\n",
    "    num_workers=8,\n",
    "    cache_option=NNOpt.CACHE_MEMORY,\n",
    "    precise_autocrop=True,\n",
    ").setup_all()\n",
    "datamodules = {\n",
    "    \"IDRID\": idrid_datamodule,\n",
    "    \"EYEPACS\": eyepacs_datamodule,\n",
    "    \"APTOS\": aptos_datamodule,\n",
    "    \"DDR\": ddr_datamodule,\n",
    "}\n",
    "# ddr_datamodule.train.plot(0)"
   ]
  },
  {
   "cell_type": "code",
   "execution_count": 10,
   "metadata": {},
   "outputs": [
    {
     "data": {
      "text/plain": [
       "dict_keys(['image', 'roi', 'label'])"
      ]
     },
     "execution_count": 10,
     "metadata": {},
     "output_type": "execute_result"
    }
   ],
   "source": [
    "idrid_datamodule.train[0].keys()"
   ]
  },
  {
   "cell_type": "code",
   "execution_count": null,
   "metadata": {},
   "outputs": [],
   "source": []
  }
 ],
 "metadata": {
  "kernelspec": {
   "display_name": "cugraph",
   "language": "python",
   "name": "python3"
  },
  "language_info": {
   "codemirror_mode": {
    "name": "ipython",
    "version": 3
   },
   "file_extension": ".py",
   "mimetype": "text/x-python",
   "name": "python",
   "nbconvert_exporter": "python",
   "pygments_lexer": "ipython3",
   "version": "3.12.3"
  }
 },
 "nbformat": 4,
 "nbformat_minor": 2
}
